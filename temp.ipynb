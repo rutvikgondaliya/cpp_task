{
 "cells": [
  {
   "cell_type": "code",
   "execution_count": 1,
   "metadata": {},
   "outputs": [
    {
     "name": "stdout",
     "output_type": "stream",
     "text": [
      "69696.89290483508\n"
     ]
    }
   ],
   "source": [
    "x = 8.2\n",
    "y = 5.3\n",
    "result = pow(x, y)\n",
    "print(result) # Output: 8"
   ]
  },
  {
   "cell_type": "code",
   "execution_count": 2,
   "metadata": {},
   "outputs": [
    {
     "name": "stdout",
     "output_type": "stream",
     "text": [
      "43.459999999999994\n"
     ]
    }
   ],
   "source": [
    "print(x*y)"
   ]
  }
 ],
 "metadata": {
  "kernelspec": {
   "display_name": "Python 3",
   "language": "python",
   "name": "python3"
  },
  "language_info": {
   "codemirror_mode": {
    "name": "ipython",
    "version": 3
   },
   "file_extension": ".py",
   "mimetype": "text/x-python",
   "name": "python",
   "nbconvert_exporter": "python",
   "pygments_lexer": "ipython3",
   "version": "3.9.0"
  },
  "orig_nbformat": 4,
  "vscode": {
   "interpreter": {
    "hash": "3b95d9519226d65dc69a0cd3d7729063672c92289fc0f06f484892d0c0022fad"
   }
  }
 },
 "nbformat": 4,
 "nbformat_minor": 2
}
